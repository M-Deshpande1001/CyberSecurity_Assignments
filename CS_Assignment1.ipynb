{
  "nbformat": 4,
  "nbformat_minor": 0,
  "metadata": {
    "colab": {
      "provenance": [],
      "authorship_tag": "ABX9TyNABCmtfGF5Ot84l6FzfNg2",
      "include_colab_link": true
    },
    "kernelspec": {
      "name": "python3",
      "display_name": "Python 3"
    },
    "language_info": {
      "name": "python"
    }
  },
  "cells": [
    {
      "cell_type": "markdown",
      "metadata": {
        "id": "view-in-github",
        "colab_type": "text"
      },
      "source": [
        "<a href=\"https://colab.research.google.com/github/M-Deshpande1001/CyberSecurity_Assignments/blob/main/CS_Assignment1.ipynb\" target=\"_parent\"><img src=\"https://colab.research.google.com/assets/colab-badge.svg\" alt=\"Open In Colab\"/></a>"
      ]
    },
    {
      "cell_type": "code",
      "execution_count": null,
      "metadata": {
        "colab": {
          "base_uri": "https://localhost:8080/"
        },
        "id": "fLK638w3wJ8G",
        "outputId": "12036763-3ac8-4007-d6e9-fb7a915ddf0d"
      },
      "outputs": [
        {
          "output_type": "stream",
          "name": "stdout",
          "text": [
            "Enter a prime number (p): 13\n",
            "Enter another prime number (q): 17\n",
            "Public Key = (221, 5)\n",
            "Private Key = 77\n",
            "\n",
            "Enter a message: 50\n",
            "Encrypted data =  33\n",
            "Original Message Sent =  50\n"
          ]
        }
      ],
      "source": [
        "import math\n",
        "def computeGCD(x, y):\n",
        "    if x > y:\n",
        "        small = y\n",
        "    else:\n",
        "        small = x\n",
        "    for i in range(1, small + 1):\n",
        "        if((x % i == 0) and (y % i == 0)):\n",
        "            gcd = i\n",
        "    return gcd\n",
        "\n",
        "p = int(input(\"Enter a prime number (p): \"))\n",
        "if p > 1:\n",
        "    for i in range(2, int(math.sqrt(p)) + 1):\n",
        "        if (p % i) == 0:\n",
        "            print(p, \"is not a prime number\")\n",
        "            exit()\n",
        "\n",
        "q = int(input(\"Enter another prime number (q): \"))\n",
        "if q > 1:\n",
        "    for j in range(2, int(math.sqrt(q)) + 1):\n",
        "        if (q % j) == 0:\n",
        "            print(q, \"is not a prime number\")\n",
        "            exit()\n",
        "\n",
        "n = p*q\n",
        "phi = (p-1)*(q-1)\n",
        "\n",
        "e = 2\n",
        "while e < phi:\n",
        "    if computeGCD(e, phi) == 1:\n",
        "        break\n",
        "    else:\n",
        "        e += 1\n",
        "\n",
        "print(f\"Public Key = ({n}, {e})\")\n",
        "\n",
        "# Calculate private key (d)\n",
        "d = pow(e, -1, phi)\n",
        "print(f\"Private Key = {d}\")\n",
        "print(\"\")\n",
        "\n",
        "# Encryption c = (msg ^ e) % n\n",
        "msg = int(input(\"Enter a message: \"))\n",
        "intermediate_result = pow(msg, e)\n",
        "ciphertext = intermediate_result % n\n",
        "print(\"Encrypted data = \", ciphertext)\n",
        "\n",
        "# Decryption m = (c ^ d) % n\n",
        "decrypted_intermediate = pow(ciphertext, d)\n",
        "decrypted_msg = decrypted_intermediate % n\n",
        "print(\"Original Message Sent = \", decrypted_msg)"
      ]
    }
  ]
}